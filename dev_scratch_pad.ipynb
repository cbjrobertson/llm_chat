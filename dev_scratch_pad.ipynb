{
 "cells": [
  {
   "cell_type": "code",
   "execution_count": 50,
   "id": "8ff92ea6-9ab1-4f10-a315-fe3c1fc41fa9",
   "metadata": {},
   "outputs": [],
   "source": [
    "from .psy_llm_chat import ClaudeChat"
   ]
  },
  {
   "cell_type": "code",
   "execution_count": 51,
   "id": "c97d692d-67c9-46f7-976a-5879c80d73df",
   "metadata": {},
   "outputs": [],
   "source": [
    "cc = ClaudeChat(client,model=\"claude-3-opus-20240229\",max_tokens=2500, temperature=0.5, silent=True, sleep=100)"
   ]
  },
  {
   "cell_type": "code",
   "execution_count": 52,
   "id": "cc50ba07-30be-4908-8f66-eb88da0193df",
   "metadata": {},
   "outputs": [],
   "source": [
    "_dialog = [{\"role\":\"user\",\"content\": \"Hi, what's your name?\"}]"
   ]
  },
  {
   "cell_type": "code",
   "execution_count": 54,
   "id": "6b9e0972-8f24-4f29-b65f-8b7c77b77373",
   "metadata": {},
   "outputs": [],
   "source": [
    "res = cc.get_response(_dialog)"
   ]
  },
  {
   "cell_type": "code",
   "execution_count": 57,
   "id": "34751854-0976-4ccd-a1bc-fca71d8ceb97",
   "metadata": {},
   "outputs": [
    {
     "name": "stdout",
     "output_type": "stream",
     "text": [
      "User: Hi, what's your name?\n",
      "Assistant: My name is Claude. It's nice to meet you!\n"
     ]
    }
   ],
   "source": [
    "cc._print_dialog(res)\n"
   ]
  },
  {
   "cell_type": "code",
   "execution_count": 58,
   "id": "0dbca2e8-58a6-453c-88a3-1854c0659e38",
   "metadata": {},
   "outputs": [
    {
     "name": "stdout",
     "output_type": "stream",
     "text": [
      "User: Hi, what's your name?\n",
      "Assistant: My name is Claude. It's nice to meet you!\n"
     ]
    },
    {
     "name": "stdin",
     "output_type": "stream",
     "text": [
      "User:  Do you like flowers?\n"
     ]
    },
    {
     "name": "stdout",
     "output_type": "stream",
     "text": [
      "Assistant: Yes, I do like flowers! I think they are beautiful and I appreciate the incredible diversity of colors, shapes, and scents found in the world of flowers. From delicate cherry blossoms to vibrant sunflowers to elegant roses, I'm amazed by their beauty. Do you have a favorite type of flower?\n"
     ]
    },
    {
     "name": "stdin",
     "output_type": "stream",
     "text": [
      "User:  My fave is Lupins. What's yours?\n"
     ]
    },
    {
     "name": "stdout",
     "output_type": "stream",
     "text": [
      "Assistant: Lupins are lovely flowers with their tall spikes of colorful blossoms. What a great choice! \n",
      "\n",
      "As for my favorite, that's a tough question since there are so many incredible flowers. But if I had to pick, I would probably say orchids. I'm fascinated by their exotic beauty and the mind-boggling variety of colors and shapes orchids come in, from the delicate moth orchid to the flamboyant lady's slipper. The fact that they've evolved such intricate flowers to attract pollinators is just amazing to me.\n",
      "\n",
      "That said, I love all sorts of flowers - tulips, peonies, dahlias, lilies, irises and so many more. I could talk about flowers all day! Let me know if you'd like to discuss some other favorite blooms.\n"
     ]
    },
    {
     "name": "stdin",
     "output_type": "stream",
     "text": [
      "User:  END_THIS_NOW\n"
     ]
    },
    {
     "data": {
      "text/plain": [
       "[{'role': 'user', 'content': \"Hi, what's your name?\"},\n",
       " {'role': 'assistant', 'content': \"My name is Claude. It's nice to meet you!\"},\n",
       " {'role': 'user', 'content': 'Do you like flowers?'},\n",
       " {'role': 'assistant',\n",
       "  'content': \"Yes, I do like flowers! I think they are beautiful and I appreciate the incredible diversity of colors, shapes, and scents found in the world of flowers. From delicate cherry blossoms to vibrant sunflowers to elegant roses, I'm amazed by their beauty. Do you have a favorite type of flower?\"},\n",
       " {'role': 'user', 'content': \"My fave is Lupins. What's yours?\"},\n",
       " {'role': 'assistant',\n",
       "  'content': \"Lupins are lovely flowers with their tall spikes of colorful blossoms. What a great choice! \\n\\nAs for my favorite, that's a tough question since there are so many incredible flowers. But if I had to pick, I would probably say orchids. I'm fascinated by their exotic beauty and the mind-boggling variety of colors and shapes orchids come in, from the delicate moth orchid to the flamboyant lady's slipper. The fact that they've evolved such intricate flowers to attract pollinators is just amazing to me.\\n\\nThat said, I love all sorts of flowers - tulips, peonies, dahlias, lilies, irises and so many more. I could talk about flowers all day! Let me know if you'd like to discuss some other favorite blooms.\"},\n",
       " {'role': 'user', 'content': 'END_THIS_NOW'}]"
      ]
     },
     "execution_count": 58,
     "metadata": {},
     "output_type": "execute_result"
    }
   ],
   "source": [
    "cc(_dialog)"
   ]
  },
  {
   "cell_type": "code",
   "execution_count": 45,
   "id": "eeac7e89-996d-4f5b-bf1a-71aa6a335961",
   "metadata": {},
   "outputs": [],
   "source": [
    "self = cc\n"
   ]
  },
  {
   "cell_type": "code",
   "execution_count": 46,
   "id": "42ee1e5d-9b48-4dbf-9607-b07c2a09fa52",
   "metadata": {},
   "outputs": [],
   "source": [
    "# _dialog[\"role\"]\n",
    "# dir(_dialog)\n",
    "# _dialog.to_dict()\n",
    "# cc._slicer(_dialog, \"content\")\n",
    "content = self._slicer(res,\"content\")\n",
    "role = self._slicer(res, \"role\")\n",
    "_dialog += [{\"role\":role,\"content\":content}]"
   ]
  },
  {
   "cell_type": "code",
   "execution_count": 47,
   "id": "b2e6bfd9-4b6b-4ac3-b826-3ea2408db184",
   "metadata": {},
   "outputs": [
    {
     "data": {
      "text/plain": [
       "[{'role': 'user', 'content': \"Hi, what's your name?\"},\n",
       " {'role': 'assistant', 'content': \"My name is Claude. It's nice to meet you!\"}]"
      ]
     },
     "execution_count": 47,
     "metadata": {},
     "output_type": "execute_result"
    }
   ],
   "source": [
    "_dialog"
   ]
  },
  {
   "cell_type": "code",
   "execution_count": 49,
   "id": "0ff94927-2878-4d4a-9b5c-3b6f312a23e8",
   "metadata": {},
   "outputs": [
    {
     "data": {
      "text/plain": [
       "\u001b[0;31mSignature:\u001b[0m\n",
       "\u001b[0mclient\u001b[0m\u001b[0;34m.\u001b[0m\u001b[0mmessages\u001b[0m\u001b[0;34m.\u001b[0m\u001b[0mcreate\u001b[0m\u001b[0;34m(\u001b[0m\u001b[0;34m\u001b[0m\n",
       "\u001b[0;34m\u001b[0m    \u001b[0;34m*\u001b[0m\u001b[0;34m,\u001b[0m\u001b[0;34m\u001b[0m\n",
       "\u001b[0;34m\u001b[0m    \u001b[0mmax_tokens\u001b[0m\u001b[0;34m:\u001b[0m \u001b[0;34m'int'\u001b[0m\u001b[0;34m,\u001b[0m\u001b[0;34m\u001b[0m\n",
       "\u001b[0;34m\u001b[0m    \u001b[0mmessages\u001b[0m\u001b[0;34m:\u001b[0m \u001b[0;34m'Iterable[MessageParam]'\u001b[0m\u001b[0;34m,\u001b[0m\u001b[0;34m\u001b[0m\n",
       "\u001b[0;34m\u001b[0m    \u001b[0mmodel\u001b[0m\u001b[0;34m:\u001b[0m \u001b[0;34m\"Union[str, Literal['claude-3-opus-20240229', 'claude-3-sonnet-20240229', 'claude-3-haiku-20240307', 'claude-2.1', 'claude-2.0', 'claude-instant-1.2']]\"\u001b[0m\u001b[0;34m,\u001b[0m\u001b[0;34m\u001b[0m\n",
       "\u001b[0;34m\u001b[0m    \u001b[0mmetadata\u001b[0m\u001b[0;34m:\u001b[0m \u001b[0;34m'message_create_params.Metadata | NotGiven'\u001b[0m \u001b[0;34m=\u001b[0m \u001b[0mNOT_GIVEN\u001b[0m\u001b[0;34m,\u001b[0m\u001b[0;34m\u001b[0m\n",
       "\u001b[0;34m\u001b[0m    \u001b[0mstop_sequences\u001b[0m\u001b[0;34m:\u001b[0m \u001b[0;34m'List[str] | NotGiven'\u001b[0m \u001b[0;34m=\u001b[0m \u001b[0mNOT_GIVEN\u001b[0m\u001b[0;34m,\u001b[0m\u001b[0;34m\u001b[0m\n",
       "\u001b[0;34m\u001b[0m    \u001b[0mstream\u001b[0m\u001b[0;34m:\u001b[0m \u001b[0;34m'Literal[False] | Literal[True] | NotGiven'\u001b[0m \u001b[0;34m=\u001b[0m \u001b[0mNOT_GIVEN\u001b[0m\u001b[0;34m,\u001b[0m\u001b[0;34m\u001b[0m\n",
       "\u001b[0;34m\u001b[0m    \u001b[0msystem\u001b[0m\u001b[0;34m:\u001b[0m \u001b[0;34m'str | NotGiven'\u001b[0m \u001b[0;34m=\u001b[0m \u001b[0mNOT_GIVEN\u001b[0m\u001b[0;34m,\u001b[0m\u001b[0;34m\u001b[0m\n",
       "\u001b[0;34m\u001b[0m    \u001b[0mtemperature\u001b[0m\u001b[0;34m:\u001b[0m \u001b[0;34m'float | NotGiven'\u001b[0m \u001b[0;34m=\u001b[0m \u001b[0mNOT_GIVEN\u001b[0m\u001b[0;34m,\u001b[0m\u001b[0;34m\u001b[0m\n",
       "\u001b[0;34m\u001b[0m    \u001b[0mtop_k\u001b[0m\u001b[0;34m:\u001b[0m \u001b[0;34m'int | NotGiven'\u001b[0m \u001b[0;34m=\u001b[0m \u001b[0mNOT_GIVEN\u001b[0m\u001b[0;34m,\u001b[0m\u001b[0;34m\u001b[0m\n",
       "\u001b[0;34m\u001b[0m    \u001b[0mtop_p\u001b[0m\u001b[0;34m:\u001b[0m \u001b[0;34m'float | NotGiven'\u001b[0m \u001b[0;34m=\u001b[0m \u001b[0mNOT_GIVEN\u001b[0m\u001b[0;34m,\u001b[0m\u001b[0;34m\u001b[0m\n",
       "\u001b[0;34m\u001b[0m    \u001b[0mextra_headers\u001b[0m\u001b[0;34m:\u001b[0m \u001b[0;34m'Headers | None'\u001b[0m \u001b[0;34m=\u001b[0m \u001b[0;32mNone\u001b[0m\u001b[0;34m,\u001b[0m\u001b[0;34m\u001b[0m\n",
       "\u001b[0;34m\u001b[0m    \u001b[0mextra_query\u001b[0m\u001b[0;34m:\u001b[0m \u001b[0;34m'Query | None'\u001b[0m \u001b[0;34m=\u001b[0m \u001b[0;32mNone\u001b[0m\u001b[0;34m,\u001b[0m\u001b[0;34m\u001b[0m\n",
       "\u001b[0;34m\u001b[0m    \u001b[0mextra_body\u001b[0m\u001b[0;34m:\u001b[0m \u001b[0;34m'Body | None'\u001b[0m \u001b[0;34m=\u001b[0m \u001b[0;32mNone\u001b[0m\u001b[0;34m,\u001b[0m\u001b[0;34m\u001b[0m\n",
       "\u001b[0;34m\u001b[0m    \u001b[0mtimeout\u001b[0m\u001b[0;34m:\u001b[0m \u001b[0;34m'float | httpx.Timeout | None | NotGiven'\u001b[0m \u001b[0;34m=\u001b[0m \u001b[0;36m600\u001b[0m\u001b[0;34m,\u001b[0m\u001b[0;34m\u001b[0m\n",
       "\u001b[0;34m\u001b[0m\u001b[0;34m)\u001b[0m \u001b[0;34m->\u001b[0m \u001b[0;34m'Message | Stream[MessageStreamEvent]'\u001b[0m\u001b[0;34m\u001b[0m\u001b[0;34m\u001b[0m\u001b[0m\n",
       "\u001b[0;31mDocstring:\u001b[0m <no docstring>\n",
       "\u001b[0;31mFile:\u001b[0m      ~/anaconda3/envs/llm_chat3/lib/python3.10/site-packages/anthropic/resources/messages.py\n",
       "\u001b[0;31mType:\u001b[0m      method"
      ]
     },
     "metadata": {},
     "output_type": "display_data"
    }
   ],
   "source": [
    "?client.messages.create"
   ]
  }
 ],
 "metadata": {
  "kernelspec": {
   "display_name": "Python [conda env:llm_chat3]",
   "language": "python",
   "name": "conda-env-llm_chat3-py"
  },
  "language_info": {
   "codemirror_mode": {
    "name": "ipython",
    "version": 3
   },
   "file_extension": ".py",
   "mimetype": "text/x-python",
   "name": "python",
   "nbconvert_exporter": "python",
   "pygments_lexer": "ipython3",
   "version": "3.10.13"
  }
 },
 "nbformat": 4,
 "nbformat_minor": 5
}
